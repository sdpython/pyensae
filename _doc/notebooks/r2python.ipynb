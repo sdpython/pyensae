{
  "cells": [
    {
      "cell_type": "markdown",
      "metadata": {},
      "source": [
        "# Convert a R script into Python\n",
        "\n",
        "This notebook introduces the function [r2python](find://code-r2python) which converts *R* into *Python*. It does not work for eveything, it is being improved everytime it is needed. This notebook was executed with the following versions:"
      ]
    },
    {
      "cell_type": "code",
      "execution_count": 1,
      "metadata": {},
      "outputs": [
        {
          "name": "stdout",
          "output_type": "stream",
          "text": [
            "3.10.5 (tags/v3.10.5:f377153, Jun  6 2022, 16:14:13) [MSC v.1929 64 bit (AMD64)]\n"
          ]
        }
      ],
      "source": [
        "import sys\n",
        "print(sys.version)"
      ]
    },
    {
      "cell_type": "code",
      "execution_count": 2,
      "metadata": {},
      "outputs": [],
      "source": [
        "text = !python -m pip freeze antlr4-python3-runtime"
      ]
    },
    {
      "cell_type": "code",
      "execution_count": 3,
      "metadata": {},
      "outputs": [
        {
          "data": {
            "text/plain": [
              "['antlr4-python3-runtime==4.10']"
            ]
          },
          "execution_count": 4,
          "metadata": {},
          "output_type": "execute_result"
        }
      ],
      "source": [
        "[t for t in text if \"antlr\" in t]"
      ]
    },
    {
      "cell_type": "markdown",
      "metadata": {},
      "source": [
        "A script as an example:"
      ]
    },
    {
      "cell_type": "code",
      "execution_count": 4,
      "metadata": {},
      "outputs": [],
      "source": [
        "rscript = \"\"\"\n",
        "nb=function(y=1930){\n",
        "debut=1816\n",
        "MatDFemale=matrix(D$Female,nrow=111)\n",
        "colnames(MatDFemale)=(debut+0):198\n",
        "cly=(y-debut+1):111\n",
        "deces=diag(MatDFemale[:,cly[cly%in%1:199]])\n",
        "return(c(B$Female[B$Year==y],deces))}\n",
        "\"\"\""
      ]
    },
    {
      "cell_type": "code",
      "execution_count": 5,
      "metadata": {
        "scrolled": false
      },
      "outputs": [
        {
          "name": "stdout",
          "output_type": "stream",
          "text": [
            "from python2r_helper import make_tuple\n",
            "\n",
            "\n",
            "def nb(y=1930):\n",
            "    debut = 1816\n",
            "    MatDFemale = matrix(D . Female, nrow=111)\n",
            "    colnames(MatDFemale) .set(range((debut + 0), 198))\n",
            "    cly = range((y - debut + 1), 111)\n",
            "    deces = diag(MatDFemale[:, cly[set(cly) & set(range(1, 199))]])\n",
            "    return make_tuple(B . Female[B . Year == y], deces)\n",
            "\n"
          ]
        }
      ],
      "source": [
        "from pyensae.languages.rconverter import r2python\n",
        "print(r2python(rscript, pep8=True))"
      ]
    },
    {
      "cell_type": "markdown",
      "metadata": {},
      "source": [
        "It adds some not implemented function such as ``colnames(MatDFemale) .set(range((debut + 0), 198))`` because the original syntax ``colnames(MatDFemale)=debut+0:198`` does not work in *Python*. The conversion does not fix indices (first position is zero in *Python* and 1 in *R*). The bracket ``(debut+0):198`` are needed to tell the converter the beginning of the expression. The operator ``%in%`` is converted into a set intersection.\n",
        "\n",
        "The unit tests check the function is working on the following list of example [unittests/ut_languages/data](https://github.com/sdpython/pyensae/tree/master/_unittests/ut_languages/data). Anything not included in that list might require a few code change. Some instructions `colnames(MatDFemale) .set(range((debut + 0), 198))` should probably be rewritten."
      ]
    },
    {
      "cell_type": "code",
      "execution_count": 6,
      "metadata": {},
      "outputs": [],
      "source": [
        "import numpy\n",
        "\n",
        "def matrix(array, nrow=None):\n",
        "    arr = numpy.array(array)\n",
        "    if nrow is not None:\n",
        "        ncol = len(arr) // nrow\n",
        "        arr = numpy.resize(arr, new_shape=(nrow, ncol))\n",
        "    return arr\n",
        "\n",
        "def colnames(df):\n",
        "    if isinstance(df, pandas.DataFrame):\n",
        "        return list(df.columns)\n",
        "    raise TypeError(type(df))\n",
        "        \n",
        "def make_tuple(*el, aslist=True):\n",
        "    if aslist:\n",
        "        return list(el)\n",
        "    return tuple(el)"
      ]
    },
    {
      "cell_type": "code",
      "execution_count": 7,
      "metadata": {},
      "outputs": [],
      "source": []
    }
  ],
  "metadata": {
    "kernelspec": {
      "display_name": "Python 3 (ipykernel)",
      "language": "python",
      "name": "python3"
    },
    "language_info": {
      "codemirror_mode": {
        "name": "ipython",
        "version": 3
      },
      "file_extension": ".py",
      "mimetype": "text/x-python",
      "name": "python",
      "nbconvert_exporter": "python",
      "pygments_lexer": "ipython3",
      "version": "3.10.5"
    }
  },
  "nbformat": 4,
  "nbformat_minor": 2
}