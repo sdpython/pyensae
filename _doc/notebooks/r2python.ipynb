{
  "cells": [
    {
      "cell_type": "markdown",
      "metadata": {},
      "source": [
        "# Convert a R script into Python\n",
        "\n",
        "This notebook introduces the function [r2python](find://code-r2python) which converts *R* into *Python*. It does not work for eveything, it is being improved everytime it is needed."
      ]
    },
    {
      "cell_type": "code",
      "execution_count": 1,
      "metadata": {
        "collapsed": true
      },
      "outputs": [],
      "source": [
        "rscript = \"\"\"\n",
        "nb=function(y=1930){\n",
        "debut=1816\n",
        "MatDFemale=matrix(D$Female,nrow=111)\n",
        "colnames(MatDFemale)=(debut+0):198\n",
        "cly=(y-debut+1):111\n",
        "deces=diag(MatDFemale[:,cly[cly%in%1:199]])\n",
        "return(c(B$Female[B$Year==y],deces))}\n",
        "\"\"\""
      ]
    },
    {
      "cell_type": "code",
      "execution_count": 2,
      "metadata": {
        "scrolled": false
      },
      "outputs": [
        {
          "name": "stdout",
          "output_type": "stream",
          "text": [
            "\n",
            "def nb(y=1930):\n",
            "\n",
            "    debut = 1816\n",
            "    MatDFemale = matrix(D . Female, nrow=111)\n",
            "    colnames(MatDFemale) .set(range((debut + 0), 198))\n",
            "    cly = range((y - debut + 1), 111)\n",
            "    deces = diag(MatDFemale[:, cly[set(cly) & set(range(1, 199))]])\n",
            "    return tuple(B . Female[B . Year == y], deces)\n",
            "\n"
          ]
        }
      ],
      "source": [
        "from pyensae.languages.rconverter import r2python\n",
        "print(r2python(rscript, pep8=True))"
      ]
    },
    {
      "cell_type": "markdown",
      "metadata": {},
      "source": [
        "It adds some not implemented function such as ``colnames(MatDFemale) .set(range((debut + 0), 198))`` because the original syntax ``colnames(MatDFemale)=debut+0:198`` does not work in *Python*. The conversion does not fix indices (first position is zero in *Python* and 1 in *R*). The bracket ``(debut+0):198`` are needed to tell the converter the beginning of the expression. The operator ``%in%`` is converted into a set intersection."
      ]
    },
    {
      "cell_type": "code",
      "execution_count": 3,
      "metadata": {
        "collapsed": true
      },
      "outputs": [],
      "source": []
    }
  ],
  "metadata": {
    "kernelspec": {
      "display_name": "Python 3",
      "language": "python",
      "name": "python3"
    },
    "language_info": {
      "codemirror_mode": {
        "name": "ipython",
        "version": 3
      },
      "file_extension": ".py",
      "mimetype": "text/x-python",
      "name": "python",
      "nbconvert_exporter": "python",
      "pygments_lexer": "ipython3",
      "version": "3.6.1"
    }
  },
  "nbformat": 4,
  "nbformat_minor": 2
}